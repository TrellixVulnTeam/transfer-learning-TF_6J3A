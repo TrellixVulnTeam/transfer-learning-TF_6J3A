{
  "nbformat": 4,
  "nbformat_minor": 0,
  "metadata": {
    "colab": {
      "name": "detection_object_main",
      "provenance": [],
      "collapsed_sections": [],
      "include_colab_link": true
    },
    "kernelspec": {
      "display_name": "Python 3",
      "language": "python",
      "name": "python3"
    },
    "language_info": {
      "codemirror_mode": {
        "name": "ipython",
        "version": 3
      },
      "file_extension": ".py",
      "mimetype": "text/x-python",
      "name": "python",
      "nbconvert_exporter": "python",
      "pygments_lexer": "ipython3",
      "version": "3.7.4"
    },
    "accelerator": "GPU"
  },
  "cells": [
    {
      "cell_type": "markdown",
      "metadata": {
        "id": "view-in-github",
        "colab_type": "text"
      },
      "source": [
        "<a href=\"https://colab.research.google.com/github/jeffreire/transfer-learning-TF/blob/main/detection_object_main.ipynb\" target=\"_parent\"><img src=\"https://colab.research.google.com/assets/colab-badge.svg\" alt=\"Open In Colab\"/></a>"
      ]
    },
    {
      "cell_type": "markdown",
      "metadata": {
        "id": "V8-yl-s-WKMG"
      },
      "source": [
        "# Using your own object detector for detection images"
      ]
    },
    {
      "cell_type": "markdown",
      "metadata": {
        "id": "OCDKdEjRQZ9Z"
      },
      "source": [
        "<table align=\"left\"><td>\n",
        "  <a target=\"_blank\"  href=\"https://colab.research.google.com/github/TannerGilbert/Tutorials/blob/master/Tensorflow%20Object%20Detection/object_detection_with_own_model.ipynb\">\n",
        "    <img src=\"https://www.tensorflow.org/images/colab_logo_32px.png\" />Run in Google Colab\n",
        "  </a>\n",
        "</td><td>\n",
        "  <a target=\"_blank\"  href=\"https://github.com/TannerGilbert/Tutorials/blob/master/Tensorflow%20Object%20Detection/object_detection_with_own_model.ipynb\">\n",
        "    <img width=32px src=\"https://www.tensorflow.org/images/GitHub-Mark-32px.png\" />View source on GitHub</a>\n",
        "</td></table>"
      ]
    },
    {
      "cell_type": "markdown",
      "metadata": {
        "id": "DA1_Dz1EQZ9a"
      },
      "source": [
        "This notebook is based on the [official Tensorflow Object Detection demo](https://github.com/tensorflow/models/blob/master/research/object_detection/object_detection_tutorial.ipynb) and only contains some slight changes. Make sure to follow the [installation instructions](https://github.com/tensorflow/models/blob/master/research/object_detection/g3doc/installation.md) before you start."
      ]
    },
    {
      "cell_type": "markdown",
      "metadata": {
        "id": "kFSqkTCdWKMI"
      },
      "source": [
        "# Imports"
      ]
    },
    {
      "cell_type": "code",
      "metadata": {
        "id": "sN9nXmJ3Qcqc"
      },
      "source": [
        "%tensorflow_version 2.x\r\n",
        "!pip install tensorflow==1.15.0\r\n",
        "!pip install tf_slim"
      ],
      "execution_count": null,
      "outputs": []
    },
    {
      "cell_type": "code",
      "metadata": {
        "id": "Bmc50zGDbEji",
        "colab": {
          "base_uri": "https://localhost:8080/"
        },
        "outputId": "d541b744-b07c-4496-eafc-ba079c5995f6"
      },
      "source": [
        "from google.colab import drive\n",
        "drive.mount('/content/drive')"
      ],
      "execution_count": null,
      "outputs": [
        {
          "output_type": "stream",
          "text": [
            "Mounted at /content/drive\n"
          ],
          "name": "stdout"
        }
      ]
    },
    {
      "cell_type": "markdown",
      "metadata": {
        "id": "cfn_tRFOWKMO"
      },
      "source": [
        "# Model preparation "
      ]
    },
    {
      "cell_type": "markdown",
      "metadata": {
        "id": "X_sEBLpVWKMQ"
      },
      "source": [
        "## Variables\n",
        "\n",
        "Any model exported using the `export_inference_graph.py` tool can be loaded here simply by changing `PATH_TO_FROZEN_GRAPH` to point to a new .pb file.  "
      ]
    },
    {
      "cell_type": "code",
      "metadata": {
        "id": "_0BXU0U6QZ9g"
      },
      "source": [
        "MODEL_NAME = '/content/drive/MyDrive/test/models/research/object_detection/inference_graph'\n",
        "PATH_TO_FROZEN_GRAPH = MODEL_NAME + '/frozen_inference_graph.pb'\n",
        "PATH_TO_LABELS = '/content/drive/MyDrive/test/models/research/object_detection/training/label_map.pbtxt'"
      ],
      "execution_count": null,
      "outputs": []
    },
    {
      "cell_type": "markdown",
      "metadata": {
        "id": "dSehrIBlQZ9h"
      },
      "source": [
        "## Loading label map\n",
        "Label maps map indices to category names, so that when our convolution network predicts `5`, we know that this corresponds to `airplane`.  Here we use internal utility functions, but anything that returns a dictionary mapping integers to appropriate string labels would be fine"
      ]
    },
    {
      "cell_type": "code",
      "metadata": {
        "id": "kcBpsExgQZ9i"
      },
      "source": [
        "category_index = label_map_util.load_labelmap(PATH_TO_LABELS)\r\n",
        "category_indext = label_map_util.get_label_map_dict(PATH_TO_LABELS, True)"
      ],
      "execution_count": null,
      "outputs": []
    },
    {
      "cell_type": "markdown",
      "metadata": {
        "id": "4BKxOSA3QZ9j"
      },
      "source": [
        "# Detection"
      ]
    },
    {
      "cell_type": "code",
      "metadata": {
        "id": "7Pyqs737i4VZ"
      },
      "source": [
        "import os\r\n",
        "import glob\r\n",
        "\r\n",
        "# Path to frozen detection graph. This is the actual model that is used for the object detection.\r\n",
        "PATH_TO_CKPT = PATH_TO_FROZEN_GRAPH\r\n",
        "\r\n",
        "# List of the strings that is used to add correct label for each box.\r\n",
        "PATH_TO_LABELS = PATH_TO_LABELS\r\n",
        "\r\n",
        "# If you want to test the code with your images, just add images files to the PATH_TO_TEST_IMAGES_DIR.\r\n",
        "#PATH_TO_TEST_IMAGES_DIR =  os.path.join(repo_dir_path, \"test\")\r\n",
        "PATH_TO_TEST_IMAGES_DIR = '/content/drive/MyDrive/test/models/research/object_detection/images/eval'\r\n",
        "assert os.path.isfile(PATH_TO_FROZEN_GRAPH)\r\n",
        "assert os.path.isfile(PATH_TO_LABELS)\r\n",
        "TEST_IMAGE_PATHS = glob.glob(os.path.join(PATH_TO_TEST_IMAGES_DIR, \"*.*\"))\r\n",
        "assert len(TEST_IMAGE_PATHS) > 0, 'No image found in `{}`.'.format(PATH_TO_TEST_IMAGES_DIR)\r\n",
        "print(TEST_IMAGE_PATHS)"
      ],
      "execution_count": null,
      "outputs": []
    },
    {
      "cell_type": "code",
      "metadata": {
        "id": "TI81H4oHj90A"
      },
      "source": [
        "%cd /content/drive/MyDrive/test/models/research/object_detection\r\n",
        "\r\n",
        "import numpy as np\r\n",
        "import os\r\n",
        "import six.moves.urllib as urllib\r\n",
        "import sys\r\n",
        "import tarfile\r\n",
        "import tensorflow as tf\r\n",
        "import zipfile\r\n",
        "\r\n",
        "from collections import defaultdict\r\n",
        "from io import StringIO\r\n",
        "from matplotlib import pyplot as plt\r\n",
        "from PIL import Image\r\n",
        "\r\n",
        "# This is needed since the notebook is stored in the object_detection folder.\r\n",
        "sys.path.append(\"..\")\r\n",
        "from object_detection.utils import ops as utils_ops\r\n",
        "\r\n",
        "\r\n",
        "# This is needed to display the images.\r\n",
        "%matplotlib inline\r\n",
        "\r\n",
        "\r\n",
        "from object_detection.utils import label_map_util\r\n",
        "\r\n",
        "from object_detection.utils import visualization_utils as vis_util\r\n",
        "\r\n",
        "\r\n",
        "detection_graph = tf.Graph()\r\n",
        "with detection_graph.as_default():\r\n",
        "  od_graph_def = tf.compat.v1.GraphDef()\r\n",
        "  with tf.io.gfile.GFile(PATH_TO_FROZEN_GRAPH, 'rb') as fid:\r\n",
        "    serialized_graph = fid.read()\r\n",
        "    od_graph_def.ParseFromString(serialized_graph)\r\n",
        "    tf.import_graph_def(od_graph_def, name='')\r\n",
        "\r\n",
        "label_map = label_map_util.load_labelmap(PATH_TO_LABELS)\r\n",
        "\r\n",
        "categories = label_map_util.convert_label_map_to_categories(\r\n",
        "    label_map, max_num_classes=2, use_display_name=True)\r\n",
        "category_index = label_map_util.create_category_index(categories)\r\n",
        "\r\n",
        "\r\n",
        "def load_image_into_numpy_array(image):\r\n",
        "    (im_width, im_height) = image.size\r\n",
        "    return np.array(image.getdata()).reshape(\r\n",
        "        (im_height, im_width, 3)).astype(np.uint8)\r\n",
        "\r\n",
        "# Size, in inches, of the output images.\r\n",
        "IMAGE_SIZE = (12, 8)\r\n",
        "\r\n",
        "\r\n",
        "def run_inference_for_single_image(image, graph):\r\n",
        "    with graph.as_default():\r\n",
        "        with tf.Session() as sess:\r\n",
        "            # Get handles to input and output tensors\r\n",
        "            ops = tf.get_default_graph().get_operations()\r\n",
        "            all_tensor_names = {\r\n",
        "                output.name for op in ops for output in op.outputs}\r\n",
        "            tensor_dict = {}\r\n",
        "            for key in [\r\n",
        "                'num_detections', 'detection_boxes', 'detection_scores',\r\n",
        "                'detection_classes', 'detection_masks'\r\n",
        "            ]:\r\n",
        "                tensor_name = key + ':0'\r\n",
        "                if tensor_name in all_tensor_names:\r\n",
        "                    tensor_dict[key] = tf.get_default_graph().get_tensor_by_name(\r\n",
        "                        tensor_name)\r\n",
        "            if 'detection_masks' in tensor_dict:\r\n",
        "                # The following processing is only for single image\r\n",
        "                detection_boxes = tf.squeeze(\r\n",
        "                    tensor_dict['detection_boxes'], [0])\r\n",
        "                detection_masks = tf.squeeze(\r\n",
        "                    tensor_dict['detection_masks'], [0])\r\n",
        "                # Reframe is required to translate mask from box coordinates to image coordinates and fit the image size.\r\n",
        "                real_num_detection = tf.cast(\r\n",
        "                    tensor_dict['num_detections'][0], tf.int32)\r\n",
        "                detection_boxes = tf.slice(detection_boxes, [0, 0], [\r\n",
        "                                           real_num_detection, -1])\r\n",
        "                detection_masks = tf.slice(detection_masks, [0, 0, 0], [\r\n",
        "                                           real_num_detection, -1, -1])\r\n",
        "                detection_masks_reframed = utils_ops.reframe_box_masks_to_image_masks(\r\n",
        "                    detection_masks, detection_boxes, image.shape[0], image.shape[1])\r\n",
        "                detection_masks_reframed = tf.cast(\r\n",
        "                    tf.greater(detection_masks_reframed, 0.5), tf.uint8)\r\n",
        "                # Follow the convention by adding back the batch dimension\r\n",
        "                tensor_dict['detection_masks'] = tf.expand_dims(\r\n",
        "                    detection_masks_reframed, 0)\r\n",
        "            image_tensor = tf.get_default_graph().get_tensor_by_name('image_tensor:0')\r\n",
        "\r\n",
        "            # Run inference\r\n",
        "            output_dict = sess.run(tensor_dict,\r\n",
        "                                   feed_dict={image_tensor: np.expand_dims(image, 0)})\r\n",
        "\r\n",
        "            # all outputs are float32 numpy arrays, so convert types as appropriate\r\n",
        "            output_dict['num_detections'] = int(\r\n",
        "                output_dict['num_detections'][0])\r\n",
        "            output_dict['detection_classes'] = output_dict[\r\n",
        "                'detection_classes'][0].astype(np.uint8)\r\n",
        "            output_dict['detection_boxes'] = output_dict['detection_boxes'][0]\r\n",
        "            output_dict['detection_scores'] = output_dict['detection_scores'][0]\r\n",
        "            if 'detection_masks' in output_dict:\r\n",
        "                output_dict['detection_masks'] = output_dict['detection_masks'][0]\r\n",
        "    return output_dict\r\n",
        "\r\n",
        "\r\n",
        "for image_path in TEST_IMAGE_PATHS:\r\n",
        "    image = Image.open(image_path)\r\n",
        "    # the array based representation of the image will be used later in order to prepare the\r\n",
        "    # result image with boxes and labels on it.\r\n",
        "    image_np = load_image_into_numpy_array(image)\r\n",
        "    # Expand dimensions since the model expects images to have shape: [1, None, None, 3]\r\n",
        "    image_np_expanded = np.expand_dims(image_np, axis=0)\r\n",
        "    # Actual detection.\r\n",
        "    output_dict = run_inference_for_single_image(image_np, detection_graph)\r\n",
        "    # Visualization of the results of a detection.\r\n",
        "    vis_util.visualize_boxes_and_labels_on_image_array(\r\n",
        "        image_np,\r\n",
        "        output_dict['detection_boxes'],\r\n",
        "        output_dict['detection_classes'],\r\n",
        "        output_dict['detection_scores'],\r\n",
        "        category_index,\r\n",
        "        instance_masks=output_dict.get('detection_masks'),\r\n",
        "        use_normalized_coordinates=True,\r\n",
        "        line_thickness=8)\r\n",
        "    plt.figure(figsize=IMAGE_SIZE)\r\n",
        "    plt.imshow(image_np)"
      ],
      "execution_count": null,
      "outputs": []
    }
  ]
}